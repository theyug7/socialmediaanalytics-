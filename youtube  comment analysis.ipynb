{
 "cells": [
  {
   "attachments": {},
   "cell_type": "markdown",
   "id": "f74d6290",
   "metadata": {},
   "source": [
    "## Yug Dev Bhandari (c0852634)\n",
    "## LAB - 2 "
   ]
  },
  {
   "cell_type": "code",
   "execution_count": 44,
   "id": "a1e42890",
   "metadata": {},
   "outputs": [],
   "source": [
    "import pandas as pd\n",
    "import numpy as np"
   ]
  },
  {
   "cell_type": "code",
   "execution_count": 45,
   "id": "c9a2f78a",
   "metadata": {},
   "outputs": [],
   "source": [
    "import re"
   ]
  },
  {
   "cell_type": "code",
   "execution_count": 46,
   "id": "b852a57d",
   "metadata": {},
   "outputs": [
    {
     "data": {
      "text/plain": [
       "1000"
      ]
     },
     "execution_count": 46,
     "metadata": {},
     "output_type": "execute_result"
    }
   ],
   "source": [
    "file =  open(\"YouTubeTrailerComments.txt\" , encoding=\"Windows-1252\")\n",
    "\n",
    "review_list = []\n",
    "\n",
    "d = \"MovieID\"\n",
    "for i in file.read().rsplit(d): # divided the text by using \"MovieID\" as the delimeter\n",
    "    review_list.append(d+i) , # added the delimeter back to apply regex later below \n",
    "\n",
    "review_list.pop(0) # removed the first element to avoid repitition while using regex below\n",
    "len(review_list)"
   ]
  },
  {
   "cell_type": "markdown",
   "id": "2feb8dd4",
   "metadata": {},
   "source": [
    "## Extracting Movie IDs and the string that contains view, like, dislike, share and comment numbers\n"
   ]
  },
  {
   "cell_type": "code",
   "execution_count": 47,
   "id": "f053af09",
   "metadata": {},
   "outputs": [],
   "source": [
    "num_list = [] # empty list to record views, likes , dislikes, shares and comments\n",
    "movie_list = [] # empty list to record movie IDs"
   ]
  },
  {
   "cell_type": "code",
   "execution_count": 48,
   "id": "3bfefe71",
   "metadata": {},
   "outputs": [
    {
     "data": {
      "text/plain": [
       "1000"
      ]
     },
     "execution_count": 48,
     "metadata": {},
     "output_type": "execute_result"
    }
   ],
   "source": [
    "for i in review_list:\n",
    "    movie_id = re.match(r'MovieID::::\\d+', i)\n",
    "    if movie_id:\n",
    "        movie_list.append(movie_id.group(0))\n",
    "        \n",
    "len(movie_list)"
   ]
  },
  {
   "cell_type": "code",
   "execution_count": 49,
   "id": "ea31f2aa",
   "metadata": {},
   "outputs": [
    {
     "data": {
      "text/plain": [
       "983"
      ]
     },
     "execution_count": 49,
     "metadata": {},
     "output_type": "execute_result"
    }
   ],
   "source": [
    "for i in review_list:\n",
    "    movie_info = re.search(r'\\d+ \\d+ \\d+ \\d+ \\d+', i)\n",
    "    if movie_info:\n",
    "        num_list.append(movie_info.group(0))\n",
    "        \n",
    "len(num_list)"
   ]
  },
  {
   "cell_type": "markdown",
   "id": "f1bdef62",
   "metadata": {},
   "source": [
    "We notice above that the length of movie list is not the same as the movie info list which contains view, likes, etc. So we need a condition to drop those movie IDs which do not have an associated view, like, etc. info"
   ]
  },
  {
   "cell_type": "code",
   "execution_count": 50,
   "id": "e56ba0f0",
   "metadata": {},
   "outputs": [
    {
     "name": "stdout",
     "output_type": "stream",
     "text": [
      "1000\n"
     ]
    }
   ],
   "source": [
    "## generating new movie info list based \n",
    "\n",
    "new_movie_info = []\n",
    "\n",
    "for i in review_list:\n",
    "    new_info_list = re.search(r'\\d+ \\d+ \\d+ \\d+ \\d+', i)\n",
    "    if new_info_list:\n",
    "        new_movie_info.append(new_info_list.group(0))\n",
    "    else:\n",
    "        new_movie_info.append(\"0 0 0 0 0\")\n",
    "        \n",
    "print(len(new_movie_info))"
   ]
  },
  {
   "cell_type": "code",
   "execution_count": 51,
   "id": "d6c9bf2b",
   "metadata": {},
   "outputs": [
    {
     "name": "stdout",
     "output_type": "stream",
     "text": [
      "1000\n",
      "1000\n"
     ]
    }
   ],
   "source": [
    "print(len(new_movie_info))\n",
    "print(len(movie_list))"
   ]
  },
  {
   "cell_type": "markdown",
   "id": "e845d8e6",
   "metadata": {},
   "source": [
    "### Requirememnt 1"
   ]
  },
  {
   "cell_type": "markdown",
   "id": "c984efdb",
   "metadata": {},
   "source": [
    "### Generating a Dataframe from extracted data"
   ]
  },
  {
   "cell_type": "code",
   "execution_count": 52,
   "id": "8b73899b",
   "metadata": {},
   "outputs": [],
   "source": [
    "df = pd.DataFrame({\"MovieID\": movie_list, \"info\": new_movie_info})"
   ]
  },
  {
   "cell_type": "code",
   "execution_count": 53,
   "id": "3c14b71a",
   "metadata": {},
   "outputs": [
    {
     "data": {
      "text/html": [
       "<div>\n",
       "<style scoped>\n",
       "    .dataframe tbody tr th:only-of-type {\n",
       "        vertical-align: middle;\n",
       "    }\n",
       "\n",
       "    .dataframe tbody tr th {\n",
       "        vertical-align: top;\n",
       "    }\n",
       "\n",
       "    .dataframe thead th {\n",
       "        text-align: right;\n",
       "    }\n",
       "</style>\n",
       "<table border=\"1\" class=\"dataframe\">\n",
       "  <thead>\n",
       "    <tr style=\"text-align: right;\">\n",
       "      <th></th>\n",
       "      <th>MovieID</th>\n",
       "      <th>info</th>\n",
       "    </tr>\n",
       "  </thead>\n",
       "  <tbody>\n",
       "    <tr>\n",
       "      <th>0</th>\n",
       "      <td>MovieID::::1</td>\n",
       "      <td>128238 170 7 0 7</td>\n",
       "    </tr>\n",
       "    <tr>\n",
       "      <th>1</th>\n",
       "      <td>MovieID::::2</td>\n",
       "      <td>155561 135 14 0 74</td>\n",
       "    </tr>\n",
       "    <tr>\n",
       "      <th>2</th>\n",
       "      <td>MovieID::::3</td>\n",
       "      <td>2532 7 2 0 1</td>\n",
       "    </tr>\n",
       "    <tr>\n",
       "      <th>3</th>\n",
       "      <td>MovieID::::4</td>\n",
       "      <td>6827 9 1 0 0</td>\n",
       "    </tr>\n",
       "    <tr>\n",
       "      <th>4</th>\n",
       "      <td>MovieID::::5</td>\n",
       "      <td>330807 374 16 0 121</td>\n",
       "    </tr>\n",
       "    <tr>\n",
       "      <th>...</th>\n",
       "      <td>...</td>\n",
       "      <td>...</td>\n",
       "    </tr>\n",
       "    <tr>\n",
       "      <th>995</th>\n",
       "      <td>MovieID::::996</td>\n",
       "      <td>252661 1080 32 0 111</td>\n",
       "    </tr>\n",
       "    <tr>\n",
       "      <th>996</th>\n",
       "      <td>MovieID::::997</td>\n",
       "      <td>5887 19 2 0 0</td>\n",
       "    </tr>\n",
       "    <tr>\n",
       "      <th>997</th>\n",
       "      <td>MovieID::::998</td>\n",
       "      <td>5755 10 1 0 0</td>\n",
       "    </tr>\n",
       "    <tr>\n",
       "      <th>998</th>\n",
       "      <td>MovieID::::999</td>\n",
       "      <td>6635 19 1 0 0</td>\n",
       "    </tr>\n",
       "    <tr>\n",
       "      <th>999</th>\n",
       "      <td>MovieID::::1000</td>\n",
       "      <td>27204 10 4 0 2</td>\n",
       "    </tr>\n",
       "  </tbody>\n",
       "</table>\n",
       "<p>1000 rows × 2 columns</p>\n",
       "</div>"
      ],
      "text/plain": [
       "             MovieID                  info\n",
       "0       MovieID::::1      128238 170 7 0 7\n",
       "1       MovieID::::2    155561 135 14 0 74\n",
       "2       MovieID::::3          2532 7 2 0 1\n",
       "3       MovieID::::4          6827 9 1 0 0\n",
       "4       MovieID::::5   330807 374 16 0 121\n",
       "..               ...                   ...\n",
       "995   MovieID::::996  252661 1080 32 0 111\n",
       "996   MovieID::::997         5887 19 2 0 0\n",
       "997   MovieID::::998         5755 10 1 0 0\n",
       "998   MovieID::::999         6635 19 1 0 0\n",
       "999  MovieID::::1000        27204 10 4 0 2\n",
       "\n",
       "[1000 rows x 2 columns]"
      ]
     },
     "execution_count": 53,
     "metadata": {},
     "output_type": "execute_result"
    }
   ],
   "source": [
    "df"
   ]
  },
  {
   "cell_type": "code",
   "execution_count": 54,
   "id": "e0c17ffd",
   "metadata": {},
   "outputs": [
    {
     "name": "stdout",
     "output_type": "stream",
     "text": [
      "<class 'pandas.core.frame.DataFrame'>\n",
      "RangeIndex: 1000 entries, 0 to 999\n",
      "Data columns (total 2 columns):\n",
      " #   Column   Non-Null Count  Dtype \n",
      "---  ------   --------------  ----- \n",
      " 0   MovieID  1000 non-null   object\n",
      " 1   info     1000 non-null   object\n",
      "dtypes: object(2)\n",
      "memory usage: 15.8+ KB\n"
     ]
    }
   ],
   "source": [
    "df.info()"
   ]
  },
  {
   "cell_type": "code",
   "execution_count": 55,
   "id": "f29b952b",
   "metadata": {},
   "outputs": [],
   "source": [
    "temp = df[\"info\"].str.split(\" \", n=4, expand=True)"
   ]
  },
  {
   "cell_type": "code",
   "execution_count": 56,
   "id": "ec9e0912",
   "metadata": {},
   "outputs": [
    {
     "data": {
      "text/html": [
       "<div>\n",
       "<style scoped>\n",
       "    .dataframe tbody tr th:only-of-type {\n",
       "        vertical-align: middle;\n",
       "    }\n",
       "\n",
       "    .dataframe tbody tr th {\n",
       "        vertical-align: top;\n",
       "    }\n",
       "\n",
       "    .dataframe thead th {\n",
       "        text-align: right;\n",
       "    }\n",
       "</style>\n",
       "<table border=\"1\" class=\"dataframe\">\n",
       "  <thead>\n",
       "    <tr style=\"text-align: right;\">\n",
       "      <th></th>\n",
       "      <th>MovieID</th>\n",
       "      <th>vc</th>\n",
       "      <th>lc</th>\n",
       "      <th>dc</th>\n",
       "      <th>fc</th>\n",
       "      <th>cc</th>\n",
       "    </tr>\n",
       "  </thead>\n",
       "  <tbody>\n",
       "    <tr>\n",
       "      <th>0</th>\n",
       "      <td>MovieID::::1</td>\n",
       "      <td>128238</td>\n",
       "      <td>170</td>\n",
       "      <td>7</td>\n",
       "      <td>0</td>\n",
       "      <td>7</td>\n",
       "    </tr>\n",
       "    <tr>\n",
       "      <th>1</th>\n",
       "      <td>MovieID::::2</td>\n",
       "      <td>155561</td>\n",
       "      <td>135</td>\n",
       "      <td>14</td>\n",
       "      <td>0</td>\n",
       "      <td>74</td>\n",
       "    </tr>\n",
       "    <tr>\n",
       "      <th>2</th>\n",
       "      <td>MovieID::::3</td>\n",
       "      <td>2532</td>\n",
       "      <td>7</td>\n",
       "      <td>2</td>\n",
       "      <td>0</td>\n",
       "      <td>1</td>\n",
       "    </tr>\n",
       "    <tr>\n",
       "      <th>3</th>\n",
       "      <td>MovieID::::4</td>\n",
       "      <td>6827</td>\n",
       "      <td>9</td>\n",
       "      <td>1</td>\n",
       "      <td>0</td>\n",
       "      <td>0</td>\n",
       "    </tr>\n",
       "    <tr>\n",
       "      <th>4</th>\n",
       "      <td>MovieID::::5</td>\n",
       "      <td>330807</td>\n",
       "      <td>374</td>\n",
       "      <td>16</td>\n",
       "      <td>0</td>\n",
       "      <td>121</td>\n",
       "    </tr>\n",
       "  </tbody>\n",
       "</table>\n",
       "</div>"
      ],
      "text/plain": [
       "        MovieID      vc   lc  dc fc   cc\n",
       "0  MovieID::::1  128238  170   7  0    7\n",
       "1  MovieID::::2  155561  135  14  0   74\n",
       "2  MovieID::::3    2532    7   2  0    1\n",
       "3  MovieID::::4    6827    9   1  0    0\n",
       "4  MovieID::::5  330807  374  16  0  121"
      ]
     },
     "execution_count": 56,
     "metadata": {},
     "output_type": "execute_result"
    }
   ],
   "source": [
    "df['vc'] = temp[0]\n",
    "df['lc'] = temp[1]\n",
    "df['dc'] = temp[2]\n",
    "df['fc'] = temp[3]\n",
    "df['cc'] = temp[4]\n",
    "\n",
    "df.drop(columns=\"info\", inplace=True)\n",
    "\n",
    "df.head()"
   ]
  },
  {
   "cell_type": "code",
   "execution_count": 57,
   "id": "bd2cc11d",
   "metadata": {},
   "outputs": [],
   "source": [
    "df['id'] = df['MovieID'].str.extract(r'(\\d+)')\n",
    "df.drop(columns=\"MovieID\", inplace=True)"
   ]
  },
  {
   "cell_type": "code",
   "execution_count": 58,
   "id": "b024ff61",
   "metadata": {},
   "outputs": [
    {
     "data": {
      "text/html": [
       "<div>\n",
       "<style scoped>\n",
       "    .dataframe tbody tr th:only-of-type {\n",
       "        vertical-align: middle;\n",
       "    }\n",
       "\n",
       "    .dataframe tbody tr th {\n",
       "        vertical-align: top;\n",
       "    }\n",
       "\n",
       "    .dataframe thead th {\n",
       "        text-align: right;\n",
       "    }\n",
       "</style>\n",
       "<table border=\"1\" class=\"dataframe\">\n",
       "  <thead>\n",
       "    <tr style=\"text-align: right;\">\n",
       "      <th></th>\n",
       "      <th>vc</th>\n",
       "      <th>lc</th>\n",
       "      <th>dc</th>\n",
       "      <th>fc</th>\n",
       "      <th>cc</th>\n",
       "      <th>id</th>\n",
       "    </tr>\n",
       "  </thead>\n",
       "  <tbody>\n",
       "    <tr>\n",
       "      <th>0</th>\n",
       "      <td>128238</td>\n",
       "      <td>170</td>\n",
       "      <td>7</td>\n",
       "      <td>0</td>\n",
       "      <td>7</td>\n",
       "      <td>1</td>\n",
       "    </tr>\n",
       "    <tr>\n",
       "      <th>1</th>\n",
       "      <td>155561</td>\n",
       "      <td>135</td>\n",
       "      <td>14</td>\n",
       "      <td>0</td>\n",
       "      <td>74</td>\n",
       "      <td>2</td>\n",
       "    </tr>\n",
       "    <tr>\n",
       "      <th>2</th>\n",
       "      <td>2532</td>\n",
       "      <td>7</td>\n",
       "      <td>2</td>\n",
       "      <td>0</td>\n",
       "      <td>1</td>\n",
       "      <td>3</td>\n",
       "    </tr>\n",
       "    <tr>\n",
       "      <th>3</th>\n",
       "      <td>6827</td>\n",
       "      <td>9</td>\n",
       "      <td>1</td>\n",
       "      <td>0</td>\n",
       "      <td>0</td>\n",
       "      <td>4</td>\n",
       "    </tr>\n",
       "    <tr>\n",
       "      <th>4</th>\n",
       "      <td>330807</td>\n",
       "      <td>374</td>\n",
       "      <td>16</td>\n",
       "      <td>0</td>\n",
       "      <td>121</td>\n",
       "      <td>5</td>\n",
       "    </tr>\n",
       "  </tbody>\n",
       "</table>\n",
       "</div>"
      ],
      "text/plain": [
       "       vc   lc  dc fc   cc id\n",
       "0  128238  170   7  0    7  1\n",
       "1  155561  135  14  0   74  2\n",
       "2    2532    7   2  0    1  3\n",
       "3    6827    9   1  0    0  4\n",
       "4  330807  374  16  0  121  5"
      ]
     },
     "execution_count": 58,
     "metadata": {},
     "output_type": "execute_result"
    }
   ],
   "source": [
    "df.head()"
   ]
  },
  {
   "cell_type": "code",
   "execution_count": 59,
   "id": "de675ec9",
   "metadata": {},
   "outputs": [
    {
     "data": {
      "text/html": [
       "<div>\n",
       "<style scoped>\n",
       "    .dataframe tbody tr th:only-of-type {\n",
       "        vertical-align: middle;\n",
       "    }\n",
       "\n",
       "    .dataframe tbody tr th {\n",
       "        vertical-align: top;\n",
       "    }\n",
       "\n",
       "    .dataframe thead th {\n",
       "        text-align: right;\n",
       "    }\n",
       "</style>\n",
       "<table border=\"1\" class=\"dataframe\">\n",
       "  <thead>\n",
       "    <tr style=\"text-align: right;\">\n",
       "      <th></th>\n",
       "      <th>id</th>\n",
       "      <th>vc</th>\n",
       "      <th>lc</th>\n",
       "      <th>dc</th>\n",
       "      <th>fc</th>\n",
       "      <th>cc</th>\n",
       "    </tr>\n",
       "  </thead>\n",
       "  <tbody>\n",
       "    <tr>\n",
       "      <th>0</th>\n",
       "      <td>1</td>\n",
       "      <td>128238</td>\n",
       "      <td>170</td>\n",
       "      <td>7</td>\n",
       "      <td>0</td>\n",
       "      <td>7</td>\n",
       "    </tr>\n",
       "    <tr>\n",
       "      <th>1</th>\n",
       "      <td>2</td>\n",
       "      <td>155561</td>\n",
       "      <td>135</td>\n",
       "      <td>14</td>\n",
       "      <td>0</td>\n",
       "      <td>74</td>\n",
       "    </tr>\n",
       "    <tr>\n",
       "      <th>2</th>\n",
       "      <td>3</td>\n",
       "      <td>2532</td>\n",
       "      <td>7</td>\n",
       "      <td>2</td>\n",
       "      <td>0</td>\n",
       "      <td>1</td>\n",
       "    </tr>\n",
       "    <tr>\n",
       "      <th>3</th>\n",
       "      <td>4</td>\n",
       "      <td>6827</td>\n",
       "      <td>9</td>\n",
       "      <td>1</td>\n",
       "      <td>0</td>\n",
       "      <td>0</td>\n",
       "    </tr>\n",
       "    <tr>\n",
       "      <th>4</th>\n",
       "      <td>5</td>\n",
       "      <td>330807</td>\n",
       "      <td>374</td>\n",
       "      <td>16</td>\n",
       "      <td>0</td>\n",
       "      <td>121</td>\n",
       "    </tr>\n",
       "  </tbody>\n",
       "</table>\n",
       "</div>"
      ],
      "text/plain": [
       "  id      vc   lc  dc fc   cc\n",
       "0  1  128238  170   7  0    7\n",
       "1  2  155561  135  14  0   74\n",
       "2  3    2532    7   2  0    1\n",
       "3  4    6827    9   1  0    0\n",
       "4  5  330807  374  16  0  121"
      ]
     },
     "execution_count": 59,
     "metadata": {},
     "output_type": "execute_result"
    }
   ],
   "source": [
    "df = df.reindex(columns=[\"id\", \"vc\", \"lc\", \"dc\", \"fc\", \"cc\"])\n",
    "df.head()"
   ]
  },
  {
   "cell_type": "markdown",
   "id": "56221d31",
   "metadata": {},
   "source": [
    "### Satisfying the assignment requirements"
   ]
  },
  {
   "cell_type": "code",
   "execution_count": 60,
   "id": "7223d8df",
   "metadata": {},
   "outputs": [],
   "source": [
    "df[\"data\"] = df[\"id\"].astype(str)"
   ]
  },
  {
   "cell_type": "code",
   "execution_count": 61,
   "id": "25be60d6",
   "metadata": {},
   "outputs": [],
   "source": [
    "df[\"data\"] = df[\"data\"].str.cat([df[\"vc\"].astype(str), df[\"lc\"].astype(str), df[\"dc\"].astype(str), df[\"fc\"].astype(str), df[\"cc\"].astype(str)], sep=\",\")"
   ]
  },
  {
   "cell_type": "code",
   "execution_count": 62,
   "id": "91dc929a",
   "metadata": {},
   "outputs": [
    {
     "data": {
      "text/plain": [
       "0            1,128238,170,7,0,7\n",
       "1          2,155561,135,14,0,74\n",
       "2                3,2532,7,2,0,1\n",
       "3                4,6827,9,1,0,0\n",
       "4         5,330807,374,16,0,121\n",
       "                 ...           \n",
       "995    996,252661,1080,32,0,111\n",
       "996           997,5887,19,2,0,0\n",
       "997           998,5755,10,1,0,0\n",
       "998           999,6635,19,1,0,0\n",
       "999         1000,27204,10,4,0,2\n",
       "Name: data, Length: 1000, dtype: object"
      ]
     },
     "execution_count": 62,
     "metadata": {},
     "output_type": "execute_result"
    }
   ],
   "source": [
    "df[\"data\"]"
   ]
  },
  {
   "cell_type": "markdown",
   "id": "9b9a65c6",
   "metadata": {},
   "source": [
    "### Satisfying optional requirements"
   ]
  },
  {
   "cell_type": "code",
   "execution_count": 63,
   "id": "51acfc02",
   "metadata": {},
   "outputs": [],
   "source": [
    "df.drop(columns=\"data\", inplace=True)\n"
   ]
  },
  {
   "cell_type": "code",
   "execution_count": 64,
   "id": "9a476dce",
   "metadata": {},
   "outputs": [
    {
     "data": {
      "text/html": [
       "<div>\n",
       "<style scoped>\n",
       "    .dataframe tbody tr th:only-of-type {\n",
       "        vertical-align: middle;\n",
       "    }\n",
       "\n",
       "    .dataframe tbody tr th {\n",
       "        vertical-align: top;\n",
       "    }\n",
       "\n",
       "    .dataframe thead th {\n",
       "        text-align: right;\n",
       "    }\n",
       "</style>\n",
       "<table border=\"1\" class=\"dataframe\">\n",
       "  <thead>\n",
       "    <tr style=\"text-align: right;\">\n",
       "      <th></th>\n",
       "      <th>id</th>\n",
       "      <th>vc</th>\n",
       "      <th>lc</th>\n",
       "      <th>dc</th>\n",
       "      <th>fc</th>\n",
       "      <th>cc</th>\n",
       "    </tr>\n",
       "  </thead>\n",
       "  <tbody>\n",
       "    <tr>\n",
       "      <th>0</th>\n",
       "      <td>1</td>\n",
       "      <td>128238</td>\n",
       "      <td>170</td>\n",
       "      <td>7</td>\n",
       "      <td>0</td>\n",
       "      <td>7</td>\n",
       "    </tr>\n",
       "    <tr>\n",
       "      <th>1</th>\n",
       "      <td>2</td>\n",
       "      <td>155561</td>\n",
       "      <td>135</td>\n",
       "      <td>14</td>\n",
       "      <td>0</td>\n",
       "      <td>74</td>\n",
       "    </tr>\n",
       "    <tr>\n",
       "      <th>2</th>\n",
       "      <td>3</td>\n",
       "      <td>2532</td>\n",
       "      <td>7</td>\n",
       "      <td>2</td>\n",
       "      <td>0</td>\n",
       "      <td>1</td>\n",
       "    </tr>\n",
       "    <tr>\n",
       "      <th>3</th>\n",
       "      <td>4</td>\n",
       "      <td>6827</td>\n",
       "      <td>9</td>\n",
       "      <td>1</td>\n",
       "      <td>0</td>\n",
       "      <td>0</td>\n",
       "    </tr>\n",
       "    <tr>\n",
       "      <th>4</th>\n",
       "      <td>5</td>\n",
       "      <td>330807</td>\n",
       "      <td>374</td>\n",
       "      <td>16</td>\n",
       "      <td>0</td>\n",
       "      <td>121</td>\n",
       "    </tr>\n",
       "  </tbody>\n",
       "</table>\n",
       "</div>"
      ],
      "text/plain": [
       "  id      vc   lc  dc fc   cc\n",
       "0  1  128238  170   7  0    7\n",
       "1  2  155561  135  14  0   74\n",
       "2  3    2532    7   2  0    1\n",
       "3  4    6827    9   1  0    0\n",
       "4  5  330807  374  16  0  121"
      ]
     },
     "execution_count": 64,
     "metadata": {},
     "output_type": "execute_result"
    }
   ],
   "source": [
    "df.head()"
   ]
  },
  {
   "cell_type": "code",
   "execution_count": null,
   "id": "2c226a3a",
   "metadata": {},
   "outputs": [],
   "source": []
  }
 ],
 "metadata": {
  "kernelspec": {
   "display_name": "Python 3",
   "language": "python",
   "name": "python3"
  },
  "language_info": {
   "codemirror_mode": {
    "name": "ipython",
    "version": 3
   },
   "file_extension": ".py",
   "mimetype": "text/x-python",
   "name": "python",
   "nbconvert_exporter": "python",
   "pygments_lexer": "ipython3",
   "version": "3.9.12"
  },
  "vscode": {
   "interpreter": {
    "hash": "40d3a090f54c6569ab1632332b64b2c03c39dcf918b08424e98f38b5ae0af88f"
   }
  }
 },
 "nbformat": 4,
 "nbformat_minor": 5
}
